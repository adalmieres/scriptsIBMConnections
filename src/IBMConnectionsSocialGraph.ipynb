{
 "cells": [
  {
   "cell_type": "markdown",
   "metadata": {},
   "source": [
    "# IBM Connections Social Graph\n",
    "Un programme pour visualiser le graph social d'une installation IBM Connections\n",
    "Indiquez les informations de base dans la suite"
   ]
  },
  {
   "cell_type": "code",
   "execution_count": 1,
   "metadata": {
    "collapsed": true
   },
   "outputs": [],
   "source": [
    "# url de votre serveur\n",
    "serverUrl = \"\"\n",
    "# votre id utilisateur\n",
    "loginId = \"\"\n",
    "# votre mot de passe\n",
    "loginPwd = \"\"\n",
    "# le userId de votre profil\n",
    "loginUserId = \"\""
   ]
  },
  {
   "cell_type": "code",
   "execution_count": 2,
   "metadata": {
    "collapsed": false
   },
   "outputs": [],
   "source": [
    "# dépendances\n",
    "import requests\n",
    "import xml.dom.minidom\n",
    "import feedparser"
   ]
  },
  {
   "cell_type": "code",
   "execution_count": 3,
   "metadata": {
    "collapsed": true
   },
   "outputs": [],
   "source": [
    "# data structure\n",
    "relations = []\n",
    "knownUserIds = set()\n",
    "unknownUserIds = set()\n",
    "usersDetails = set()"
   ]
  },
  {
   "cell_type": "code",
   "execution_count": 4,
   "metadata": {
    "collapsed": false,
    "scrolled": true
   },
   "outputs": [],
   "source": [
    "# get userId relations\n",
    "def getUserRelations(userId):\n",
    "    # local variables\n",
    "    userIds = []\n",
    "    # get raw xml\n",
    "    param = { 'userid' : userId, 'connectionType' : 'colleague', 'ps' : '250'}\n",
    "    while True:\n",
    "        try:\n",
    "            r = requests.get('http://' + serverUrl + '/profiles/atom/connections.do', params=param, auth=(loginId,loginPwd))\n",
    "        except:\n",
    "            continue\n",
    "        break\n",
    "    # parse xml\n",
    "    try:\n",
    "        dom = xml.dom.minidom.parseString(r.text)\n",
    "    except:\n",
    "        return True\n",
    "    feed = dom.firstChild\n",
    "    entries = feed.getElementsByTagName('entry')\n",
    "    for entry in entries:\n",
    "        # get author user id\n",
    "        author = entry.getElementsByTagName('author')[0]\n",
    "        try:\n",
    "            authorName = author.getElementsByTagName('name')[0]\n",
    "            authorName = authorName.firstChild.data\n",
    "        except:\n",
    "            authorName = \"\"\n",
    "        try:\n",
    "            authorEMail = author.getElementsByTagName('email')[0]\n",
    "            authorEMail = authorEMail.firstChild.data\n",
    "        except:\n",
    "            authorEMail = \"\"\n",
    "        authorUserId = author.getElementsByTagName('snx:userid')[0]\n",
    "        # get contributor user id\n",
    "        contributor = entry.getElementsByTagName('contributor')[0]\n",
    "        try:\n",
    "            contribName = contributor.getElementsByTagName('name')[0]\n",
    "            contribName = contribName.firstChild.data\n",
    "        except:\n",
    "            contribName = \"\"\n",
    "        try:\n",
    "            contribEMail = contributor.getElementsByTagName('email')[0]\n",
    "            contribEMail = contribEMail.firstChild.data\n",
    "        except:\n",
    "            contribEMail = \"\"\n",
    "        contribUserId = contributor.getElementsByTagName('snx:userid')[0]\n",
    "        # add them to data structure\n",
    "        relations.append(authorUserId.firstChild.data + ',' + contribUserId.firstChild.data)\n",
    "        unknownUserIds.add(authorUserId.firstChild.data)\n",
    "        unknownUserIds.add(contribUserId.firstChild.data)\n",
    "        # add user datail to usersDetails set\n",
    "        usersDetails.add(authorUserId.firstChild.data + ',' + authorName + ',' + authorEMail)\n",
    "        usersDetails.add(contribUserId.firstChild.data + ',' + contribName + ',' + contribEMail)\n",
    "    \n",
    "    # add it to the knownUserIds set\n",
    "    knownUserIds.add(userId)\n",
    "    # remove already known user from unknownUserIds\n",
    "    tmp = set(knownUserIds)\n",
    "    for index, item in enumerate(tmp):\n",
    "        if item in unknownUserIds:\n",
    "            unknownUserIds.remove(item)\n",
    "    \n",
    "# get all relations of a set of userIds\n",
    "def getAllRelations(setUserIds):\n",
    "    while len(setUserIds) > 0:\n",
    "        print (\"still \" + str(len(setUserIds)) + \" to go.\")\n",
    "        tmpUserToCheck = set(setUserIds)\n",
    "        for index, item in enumerate(tmpUserToCheck):\n",
    "            print (index, end=\"\\r\")\n",
    "            try:\n",
    "                getUserRelations(item)\n",
    "            except:\n",
    "                continue\n",
    "            \n",
    "# search for userIds\n",
    "def searchUserIds(search):\n",
    "    # local variables\n",
    "    nbPage = 0\n",
    "    ps = 250\n",
    "    # first page\n",
    "    # requète\n",
    "    while True:\n",
    "        try:\n",
    "            r = requests.get('http://' + serverUrl + '/profiles/atom/search.do?search=' + search + '*&ps=' + str(ps), auth=(loginId, loginPwd))\n",
    "        except:\n",
    "            continue\n",
    "        break\n",
    "    dom = xml.dom.minidom.parseString(r.text)\n",
    "    feed = dom.firstChild\n",
    "    totalResult = feed.getElementsByTagName('opensearch:totalResults')[0]\n",
    "    totalResult = int(totalResult.firstChild.data)\n",
    "    print (str(totalResult))\n",
    "    if totalResult > ps:\n",
    "        nbPage = int(float(totalResult) / ps) + 1\n",
    "    else:\n",
    "        nbPage = 1\n",
    "    \n",
    "    fundUserIds = feed.getElementsByTagName('snx:userid')\n",
    "    ls = []\n",
    "    for index, item in enumerate(fundUserIds):\n",
    "        ls.append(item.firstChild.data)\n",
    "    unknownUserIds.union(set(ls))\n",
    "        \n",
    "    \n",
    "    # rest of the pages\n",
    "    if nbPage > 1:\n",
    "        for p in range(2,nbPage,1):\n",
    "            # requète\n",
    "            while True:\n",
    "                try:\n",
    "                    r = requests.get('http://' + serverUrl + '/profiles/atom/search.do?search=' + search + '*&ps=' + str(ps) + '&page=' + str(p), auth=(loginId, loginPwd))\n",
    "                except:\n",
    "                    continue\n",
    "                break\n",
    "            print ('page ' + str(p) + '/' + str(nbPage), end=\"\\r\")\n",
    "            # parse\n",
    "            dom = xml.dom.minidom.parseString(r.text)\n",
    "            feed = dom.firstChild\n",
    "            fundUserIds = feed.getElementsByTagName('snx:userid')\n",
    "            for index, item in enumerate(fundUserIds):\n",
    "                unknownUserIds.add(item.firstChild.data)\n",
    "    \n",
    "\n",
    "# write data\n",
    "def writeUserDetails(mySet):\n",
    "    f = open(\"usersDetails.csv\",\"w\")\n",
    "    f.write(\"Id,Label,eMail\\n\")\n",
    "    for line in mySet:\n",
    "        f.write(line + '\\n')\n",
    "    f.close()\n",
    "\n",
    "def writeRelations(myList):\n",
    "    f = open(\"usersRelations.csv\",\"w\")\n",
    "    f.write(\"Source,Target\\n\")\n",
    "    for line in myList:\n",
    "        f.write(line + '\\n')\n",
    "    f.close()"
   ]
  },
  {
   "cell_type": "code",
   "execution_count": null,
   "metadata": {
    "collapsed": false,
    "scrolled": true
   },
   "outputs": [
    {
     "name": "stdout",
     "output_type": "stream",
     "text": [
      "29321\n",
      "page 40/118"
     ]
    }
   ],
   "source": [
    "# run code\n",
    "# init\n",
    "searchUserIds(\"a\")\n",
    "print (len(unknownUserIds))\n",
    "#unknownUserIds.add(loginUserId)\n",
    "getAllRelations(unknownUserIds)\n",
    "writeUserDetails(usersDetails)\n",
    "writeRelations(relations)"
   ]
  },
  {
   "cell_type": "code",
   "execution_count": null,
   "metadata": {
    "collapsed": true
   },
   "outputs": [],
   "source": []
  }
 ],
 "metadata": {
  "kernelspec": {
   "display_name": "Python 3",
   "language": "python",
   "name": "python3"
  },
  "language_info": {
   "codemirror_mode": {
    "name": "ipython",
    "version": 3
   },
   "file_extension": ".py",
   "mimetype": "text/x-python",
   "name": "python",
   "nbconvert_exporter": "python",
   "pygments_lexer": "ipython3",
   "version": "3.5.0"
  }
 },
 "nbformat": 4,
 "nbformat_minor": 0
}
